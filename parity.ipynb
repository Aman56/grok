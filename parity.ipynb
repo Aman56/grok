{
  "nbformat": 4,
  "nbformat_minor": 0,
  "metadata": {
    "colab": {
      "provenance": [],
      "include_colab_link": true
    },
    "kernelspec": {
      "name": "python3",
      "display_name": "Python 3"
    },
    "language_info": {
      "name": "python"
    },
    "accelerator": "GPU"
  },
  "cells": [
    {
      "cell_type": "markdown",
      "metadata": {
        "id": "view-in-github",
        "colab_type": "text"
      },
      "source": [
        "<a href=\"https://colab.research.google.com/github/Aman56/grok/blob/main/parity.ipynb\" target=\"_parent\"><img src=\"https://colab.research.google.com/assets/colab-badge.svg\" alt=\"Open In Colab\"/></a>"
      ]
    },
    {
      "cell_type": "markdown",
      "source": [
        "##Parity learning simulations"
      ],
      "metadata": {
        "id": "5grSaX6NdJt5"
      }
    },
    {
      "cell_type": "code",
      "execution_count": 29,
      "metadata": {
        "id": "W1Gx5KaZQOH9"
      },
      "outputs": [],
      "source": [
        "import torch\n",
        "import torch.nn as nn\n",
        "import torch.optim as optim\n",
        "import torch.nn.functional as F\n",
        "import copy\n",
        "\n",
        "import random\n",
        "\n",
        "device = 'cuda' if torch.cuda.is_available() else 'cpu'\n",
        "\n",
        "n = 40 # string dimension\n",
        "k = 3 # parity dimension\n",
        "N = 1000 # #samples\n",
        "B = 32 # batch size\n",
        "lr = 0.1 # learning rate\n",
        "T = int(20) # epochs\n",
        "\n",
        "# Data generation\n",
        "def parity(n, k, samples):\n",
        "\n",
        "  input = torch.Tensor([[random.choice([-1, 1]) for j in range(n)] for i in range(samples)])\n",
        "  target = torch.prod(input[:, n//2:n//2+k], dim=1) # parity hidden in the middle\n",
        "\n",
        "  return input, target\n",
        "\n",
        "\n",
        "class FF1(torch.nn.Module):\n",
        "    def __init__(self, width=1000):\n",
        "        super(FF1, self).__init__()\n",
        "        self.linear1 = torch.nn.Linear(n, width)\n",
        "        self.activation = torch.nn.ReLU()\n",
        "        self.linear2 = torch.nn.Linear(width, 1, bias=False)\n",
        "\n",
        "    def forward(self, x):\n",
        "        x = self.linear1(x)\n",
        "        x = self.activation(x)\n",
        "        x = self.linear2(x)\n",
        "        return x\n",
        "\n",
        "class MyHingeLoss(torch.nn.Module):\n",
        "  def __init__(self):\n",
        "    super(MyHingeLoss, self).__init__()\n",
        "\n",
        "  def forward(self, output, target):\n",
        "    hinge_loss = 1 - torch.mul(output, target)\n",
        "    hinge_loss[hinge_loss < 0] = 0\n",
        "    return hinge_loss\n",
        "\n",
        "loss_fn = MyHingeLoss()"
      ]
    },
    {
      "cell_type": "code",
      "source": [
        "from torch.utils.data import TensorDataset, DataLoader\n",
        "data = parity(n, k, N)\n",
        "train_dataset = TensorDataset(data[0], data[1])\n",
        "train_dataloader = DataLoader(train_dataset, batch_size=B, shuffle=True)\n",
        "\n",
        "data = parity(n, k, 100)\n",
        "test_dataset = TensorDataset(data[0], data[1])\n",
        "test_dataloader = DataLoader(test_dataset, batch_size=100, shuffle=True)\n",
        "\n",
        "data[0].shape, data[1].shape"
      ],
      "metadata": {
        "colab": {
          "base_uri": "https://localhost:8080/"
        },
        "id": "5-mMwXNhgQ6j",
        "outputId": "c8f43d24-0cfa-4c59-ddf2-328db20c05c0"
      },
      "execution_count": 30,
      "outputs": [
        {
          "output_type": "execute_result",
          "data": {
            "text/plain": [
              "(torch.Size([100, 40]), torch.Size([100]))"
            ]
          },
          "metadata": {},
          "execution_count": 30
        }
      ]
    },
    {
      "cell_type": "code",
      "source": [
        "import matplotlib.pyplot as plt\n",
        "    \n",
        "def loss_calc(dataloader, model):\n",
        "  loss = 0\n",
        "  for id, (x_batch, y_batch) in enumerate(dataloader):\n",
        "    pred = model(x_batch)\n",
        "    loss += loss_fn(pred, y_batch.to(device)).item()\n",
        "  \n",
        "  # if (id > 0):\n",
        "  #   print('problem', id)\n",
        "  #   assert 1 == 0\n",
        "  if (id > 0):\n",
        "    return loss / N\n",
        "  else:\n",
        "    return loss\n",
        "\n",
        "num_seeds = 1\n",
        "for seed_id in range(num_seeds):\n",
        "  print(seed_id)\n",
        "  model = FF1()\n",
        "  model = model.to(device)\n",
        "  if device == 'cuda':\n",
        "    model = torch.nn.DataParallel(model)\n",
        "  optimizer = torch.optim.SGD(model.parameters(), lr=lr)\n",
        "\n",
        "  # for params in model.parameters():\n",
        "  #     params.data = torch.randn(params.data.shape) * alpha\n",
        "  #     init_net_params.append(copy.deepcopy(params.detach()))\n",
        "\n",
        "  train_loss, test_loss = [], []\n",
        "  for epoch in range(T):\n",
        "    if (epoch // 250 == 1):\n",
        "      print(f\"Epoch {epoch + 1}\\n-------------------------------\")\n",
        "\n",
        "    train_loss.append(loss_calc(train_dataloader, model))\n",
        "    test_loss.append(loss_calc(test_dataloader, model))\n",
        "    # Loop over batches in an epoch using DataLoader\n",
        "    for id_batch, (x_batch, y_batch) in enumerate(train_dataloader):\n",
        "\n",
        "      pred = model(x_batch)\n",
        "\n",
        "      optimizer.zero_grad()\n",
        "      loss = loss_fn(pred, y_batch.to(device)).mean()\n",
        "      loss.backward()\n",
        "      optimizer.step()\n",
        "\n",
        "  \n",
        "  plt.plot(train_loss)\n",
        "  plt.show()\n",
        "\n",
        "    # for i in range(T):\n",
        "      \n",
        "    #     outputs_tst = torch.squeeze(model(Xtst.T))\n",
        "    #     loss = loss_fn(outputs_tst, Ytst)\n",
        "    #     loss_curve[i] = loss.detach()\n",
        "\n",
        "    #     X = torch.normal(0, 1, size=(d, N)).to(device)\n",
        "    #     Y = torch.matmul(b, F.relu(torch.matmul(V, X))).to(device)\n",
        "\n",
        "    #     optimizer.zero_grad()\n",
        "    #     outputs = torch.squeeze(model(X.T))\n",
        "    #     loss = loss_fn(outputs, Y)\n",
        "    #     loss.backward()\n",
        "    #     optimizer.step()\n",
        "\n",
        "    #     #if(i % 1000 == 0):\n",
        "    #     #    print(i, loss.detach())\n",
        "\n",
        "    # net_params = []\n",
        "    # net_grads = []\n",
        "\n",
        "    # for params in model.parameters():\n",
        "    #     net_grads.append(params.grad)\n",
        "    #     net_params.append(params.detach())\n",
        "\n",
        "    # state = {'loss': loss_curve,\n",
        "    #         'init_net_params': init_net_params,\n",
        "    #         'net_params': net_params,\n",
        "    #         'net_grads': net_grads}\n",
        "\n",
        "    # plt.plot(state['loss'])\n",
        "    # plt.show()\n",
        "\n",
        "    # plt.imshow(state['net_params'][0] @ V.T)\n",
        "    # plt.colorbar()\n",
        "    # plt.show()"
      ],
      "metadata": {
        "colab": {
          "base_uri": "https://localhost:8080/",
          "height": 356
        },
        "id": "TwAWsPG2Qpd6",
        "outputId": "ac02019e-5d82-4f5d-eb8c-0a41eaf581f5"
      },
      "execution_count": 32,
      "outputs": [
        {
          "output_type": "stream",
          "name": "stdout",
          "text": [
            "0\n"
          ]
        },
        {
          "output_type": "error",
          "ename": "ValueError",
          "evalue": "ignored",
          "traceback": [
            "\u001b[0;31m---------------------------------------------------------------------------\u001b[0m",
            "\u001b[0;31mValueError\u001b[0m                                Traceback (most recent call last)",
            "\u001b[0;32m<ipython-input-32-ace842909dc8>\u001b[0m in \u001b[0;36m<module>\u001b[0;34m\u001b[0m\n\u001b[1;32m     33\u001b[0m       \u001b[0mprint\u001b[0m\u001b[0;34m(\u001b[0m\u001b[0;34mf\"Epoch {epoch + 1}\\n-------------------------------\"\u001b[0m\u001b[0;34m)\u001b[0m\u001b[0;34m\u001b[0m\u001b[0;34m\u001b[0m\u001b[0m\n\u001b[1;32m     34\u001b[0m \u001b[0;34m\u001b[0m\u001b[0m\n\u001b[0;32m---> 35\u001b[0;31m     \u001b[0mtrain_loss\u001b[0m\u001b[0;34m.\u001b[0m\u001b[0mappend\u001b[0m\u001b[0;34m(\u001b[0m\u001b[0mloss_calc\u001b[0m\u001b[0;34m(\u001b[0m\u001b[0mtrain_dataloader\u001b[0m\u001b[0;34m,\u001b[0m \u001b[0mmodel\u001b[0m\u001b[0;34m)\u001b[0m\u001b[0;34m)\u001b[0m\u001b[0;34m\u001b[0m\u001b[0;34m\u001b[0m\u001b[0m\n\u001b[0m\u001b[1;32m     36\u001b[0m     \u001b[0mtest_loss\u001b[0m\u001b[0;34m.\u001b[0m\u001b[0mappend\u001b[0m\u001b[0;34m(\u001b[0m\u001b[0mloss_calc\u001b[0m\u001b[0;34m(\u001b[0m\u001b[0mtest_dataloader\u001b[0m\u001b[0;34m,\u001b[0m \u001b[0mmodel\u001b[0m\u001b[0;34m)\u001b[0m\u001b[0;34m)\u001b[0m\u001b[0;34m\u001b[0m\u001b[0;34m\u001b[0m\u001b[0m\n\u001b[1;32m     37\u001b[0m     \u001b[0;31m# Loop over batches in an epoch using DataLoader\u001b[0m\u001b[0;34m\u001b[0m\u001b[0;34m\u001b[0m\u001b[0;34m\u001b[0m\u001b[0m\n",
            "\u001b[0;32m<ipython-input-32-ace842909dc8>\u001b[0m in \u001b[0;36mloss_calc\u001b[0;34m(test_dataloader, model)\u001b[0m\n\u001b[1;32m      5\u001b[0m   \u001b[0;32mfor\u001b[0m \u001b[0mid\u001b[0m\u001b[0;34m,\u001b[0m \u001b[0;34m(\u001b[0m\u001b[0mx_batch\u001b[0m\u001b[0;34m,\u001b[0m \u001b[0my_batch\u001b[0m\u001b[0;34m)\u001b[0m \u001b[0;32min\u001b[0m \u001b[0menumerate\u001b[0m\u001b[0;34m(\u001b[0m\u001b[0mtest_dataloader\u001b[0m\u001b[0;34m)\u001b[0m\u001b[0;34m:\u001b[0m\u001b[0;34m\u001b[0m\u001b[0;34m\u001b[0m\u001b[0m\n\u001b[1;32m      6\u001b[0m     \u001b[0mpred\u001b[0m \u001b[0;34m=\u001b[0m \u001b[0mmodel\u001b[0m\u001b[0;34m(\u001b[0m\u001b[0mx_batch\u001b[0m\u001b[0;34m)\u001b[0m\u001b[0;34m\u001b[0m\u001b[0;34m\u001b[0m\u001b[0m\n\u001b[0;32m----> 7\u001b[0;31m     \u001b[0mloss\u001b[0m \u001b[0;34m+=\u001b[0m \u001b[0mloss_fn\u001b[0m\u001b[0;34m(\u001b[0m\u001b[0mpred\u001b[0m\u001b[0;34m,\u001b[0m \u001b[0my_batch\u001b[0m\u001b[0;34m.\u001b[0m\u001b[0mto\u001b[0m\u001b[0;34m(\u001b[0m\u001b[0mdevice\u001b[0m\u001b[0;34m)\u001b[0m\u001b[0;34m)\u001b[0m\u001b[0;34m.\u001b[0m\u001b[0mitem\u001b[0m\u001b[0;34m(\u001b[0m\u001b[0;34m)\u001b[0m\u001b[0;34m\u001b[0m\u001b[0;34m\u001b[0m\u001b[0m\n\u001b[0m\u001b[1;32m      8\u001b[0m \u001b[0;34m\u001b[0m\u001b[0m\n\u001b[1;32m      9\u001b[0m   \u001b[0;31m# if (id > 0):\u001b[0m\u001b[0;34m\u001b[0m\u001b[0;34m\u001b[0m\u001b[0;34m\u001b[0m\u001b[0m\n",
            "\u001b[0;31mValueError\u001b[0m: only one element tensors can be converted to Python scalars"
          ]
        }
      ]
    },
    {
      "cell_type": "code",
      "source": [
        "plt.plot(test_loss)\n",
        "plt.show()"
      ],
      "metadata": {
        "colab": {
          "base_uri": "https://localhost:8080/",
          "height": 264
        },
        "id": "hcxEAupxRVHc",
        "outputId": "00b20ec9-9add-4390-c059-41a922cdfa90"
      },
      "execution_count": 27,
      "outputs": [
        {
          "output_type": "display_data",
          "data": {
            "text/plain": [
              "<Figure size 432x288 with 1 Axes>"
            ],
            "image/png": "[encoded data removed]"
          },
          "metadata": {
            "needs_background": "light"
          }
        }
      ]
    },
    {
      "cell_type": "code",
      "source": [],
      "metadata": {
        "id": "tPV9Fwz30UzJ"
      },
      "execution_count": null,
      "outputs": []
    }
  ]
}